{
 "cells": [
  {
   "cell_type": "code",
   "execution_count": 1,
   "metadata": {},
   "outputs": [
    {
     "data": {
      "text/html": [
       "\n",
       "        <iframe\n",
       "            width=\"100%\"\n",
       "            height=\"650\"\n",
       "            src=\"http://127.0.0.1:8050/\"\n",
       "            frameborder=\"0\"\n",
       "            allowfullscreen\n",
       "            \n",
       "        ></iframe>\n",
       "        "
      ],
      "text/plain": [
       "<IPython.lib.display.IFrame at 0x18c966cebf0>"
      ]
     },
     "metadata": {},
     "output_type": "display_data"
    }
   ],
   "source": [
    "import pandas as pd\n",
    "import plotly.express as px\n",
    "import dash\n",
    "from dash import dcc, html\n",
    "from dash.dependencies import Input, Output\n",
    "\n",
    "# Charger le DataFrame\n",
    "df1 = pd.read_csv('df2.csv')  # Assurez-vous de remplacer 'votre_fichier.csv' par le nom réel de votre fichier\n",
    "\n",
    "# Créer l'application Dash\n",
    "app = dash.Dash(__name__)\n",
    "\n",
    "# Layout de l'application\n",
    "app.layout = html.Div([\n",
    "    html.H1(\"Exploration des données d'arbres à Paris\"),\n",
    "    \n",
    "    # Filtres pour le domaine et le stade de développement\n",
    "    html.Label(\"Sélectionnez le domaine :\"),\n",
    "    dcc.Dropdown(\n",
    "        id='domaine-dropdown',\n",
    "        options=[{'label': domaine, 'value': domaine} for domaine in df1['DOMANIALITE'].unique()],\n",
    "        value='DOMANIALITE'\n",
    "    ),\n",
    "    \n",
    "    html.Label(\"Sélectionnez le stade de développement :\"),\n",
    "    dcc.Dropdown(\n",
    "        id='stade-dropdown',\n",
    "        options=[{'label': stade, 'value': stade} for stade in df1['STADE DE DEVELOPPEMENT'].unique()],\n",
    "        value='STADE DE DEVELOPPEMENT'\n",
    "    ),\n",
    "    \n",
    "    # Histogrammes\n",
    "    dcc.Graph(id='histogram-circonference'),\n",
    "    dcc.Graph(id='histogram-hauteur')\n",
    "])\n",
    "\n",
    "# Callback pour mettre à jour les histogrammes en fonction des filtres\n",
    "@app.callback(\n",
    "    [Output('histogram-circonference', 'figure'),\n",
    "     Output('histogram-hauteur', 'figure')],\n",
    "    [Input('domaine-dropdown', 'value'),\n",
    "     Input('stade-dropdown', 'value')]\n",
    ")\n",
    "def update_histograms(selected_domaines, selected_stades):\n",
    "    filtered_df = df1[(df1['DOMANIALITE'] == selected_domaines) & (df1['STADE DE DEVELOPPEMENT'] == selected_stades)]\n",
    "\n",
    "    # Histogramme de circonférence\n",
    "    fig_circonference = px.histogram(filtered_df, x='CIRCONFERENCE (cm)', title=f\"Histogramme circonférence par {selected_domaines} - {selected_stades}\")\n",
    "\n",
    "    # Histogramme de hauteur\n",
    "    fig_hauteur = px.histogram(filtered_df, x='HAUTEUR (m)', title=f\"Histogramme hauteur par {selected_domaines} - {selected_stades}\")\n",
    "\n",
    "    return fig_circonference, fig_hauteur\n",
    "\n",
    "# Exécuter l'application\n",
    "if __name__ == '__main__':\n",
    "    app.run_server(debug=True)\n"
   ]
  }
 ],
 "metadata": {
  "kernelspec": {
   "display_name": "api_flask",
   "language": "python",
   "name": "python3"
  },
  "language_info": {
   "codemirror_mode": {
    "name": "ipython",
    "version": 3
   },
   "file_extension": ".py",
   "mimetype": "text/x-python",
   "name": "python",
   "nbconvert_exporter": "python",
   "pygments_lexer": "ipython3",
   "version": "3.10.13"
  }
 },
 "nbformat": 4,
 "nbformat_minor": 2
}
